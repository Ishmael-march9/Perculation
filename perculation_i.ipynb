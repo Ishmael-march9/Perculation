{
  "nbformat": 4,
  "nbformat_minor": 0,
  "metadata": {
    "colab": {
      "provenance": []
    },
    "kernelspec": {
      "name": "python3",
      "display_name": "Python 3"
    },
    "language_info": {
      "name": "python"
    }
  },
  "cells": [
    {
      "cell_type": "code",
      "execution_count": null,
      "metadata": {
        "id": "d-G-rjoZu2qs"
      },
      "outputs": [],
      "source": [
        "import numpy as np\n",
        "import matplotlib.pyplot as plt\n",
        "import matplotlib.colors\n",
        "from matplotlib import cm\n",
        "cmap = matplotlib.colors.LinearSegmentedColormap.from_list(\"\", [\"Blue\",\"saddlebrown\"])                    #motabeghe algoritm\n",
        "from numba import njit"
      ]
    },
    {
      "cell_type": "code",
      "source": [
        "def lattice(L):\n",
        "    l=np.ones((L,L))\n",
        "    return L**2 * l"
      ],
      "metadata": {
        "id": "D4YAk5HYvR5A"
      },
      "execution_count": null,
      "outputs": []
    },
    {
      "cell_type": "code",
      "source": [
        "def probability(LATTICE,L):\n",
        "    TOTAL=list(LATTICE[-1])\n",
        "    L2_number=TOTAL.count(L**2)\n",
        "    zeros=len(TOTAL)-L2_number\n",
        "    if zeros!=0:\n",
        "        return 1 , zeros/L**2\n",
        "    else:\n",
        "        return 0 , zeros/L**2"
      ],
      "metadata": {
        "id": "URm3FqPFvYQ_"
      },
      "execution_count": null,
      "outputs": []
    },
    {
      "cell_type": "code",
      "source": [
        "L=16\n",
        "c=1\n",
        "LATTICE=lattice(L)\n",
        "LATTICE[0]=np.zeros(L)"
      ],
      "metadata": {
        "id": "IjJMKW1jvgHS"
      },
      "execution_count": null,
      "outputs": []
    },
    {
      "cell_type": "code",
      "source": [
        "plt.imshow(LATTICE,cmap=cmap)"
      ],
      "metadata": {
        "colab": {
          "base_uri": "https://localhost:8080/",
          "height": 283
        },
        "id": "fhFnq4TIvk8I",
        "outputId": "7983ac61-2afa-48a5-fdaa-efa0dcdf5dd0"
      },
      "execution_count": null,
      "outputs": [
        {
          "output_type": "execute_result",
          "data": {
            "text/plain": [
              "<matplotlib.image.AxesImage at 0x7f54fc220550>"
            ]
          },
          "metadata": {},
          "execution_count": 16
        },
        {
          "output_type": "display_data",
          "data": {
            "text/plain": [
              "<Figure size 432x288 with 1 Axes>"
            ],
            "image/png": "[encoded data removed]"
          },
          "metadata": {
            "needs_background": "light"
          }
        }
      ]
    },
    {
      "cell_type": "code",
      "source": [
        "@njit\n",
        "def percolation(lattice,c,p1):\n",
        " for i in range(L):\n",
        "    for j in range(L):\n",
        "        r=np.random.random()\n",
        "        if r<p1:\n",
        "            if lattice[i+1][j-1]==L**2 and lattice[i][j]==L**2:\n",
        "                lattice[i+1][j]=c\n",
        "                c+=1\n",
        "            elif lattice[i+1][j-1]==L**2 and lattice[i][j]!=L**2:\n",
        "                 lattice[i+1][j]=lattice[i][j]\n",
        "            elif lattice[i+1][j-1]!=L**2 and lattice[i][j]==L**2:\n",
        "                  lattice[i+1][j]=lattice[i+1][j-1]\n",
        "            elif lattice[i+1][j-1]!=L**2 and lattice[i][j]!=L**2:\n",
        "                if lattice[i+1][j-1]< lattice[i][j]:\n",
        "                    for p in range(L):\n",
        "                        for q in range(L):\n",
        "                            if lattice[p][q]!=L**2:\n",
        "                                lattice[p][q]=lattice[i+1][j-1]\n",
        "                elif lattice[i+1][j-1]> lattice[i][j]:\n",
        "                    for p in range(L):\n",
        "                        for q in range(L):\n",
        "                            if lattice[p][q]!=L**2:\n",
        "                                lattice[p][q]=lattice[i][j]\n",
        "\n",
        " return lattice"
      ],
      "metadata": {
        "id": "eDotRXWEvrCi"
      },
      "execution_count": null,
      "outputs": []
    },
    {
      "cell_type": "code",
      "source": [
        "final=percolation(LATTICE,1,0.1)                   #p=0.1\n",
        "plt.imshow(final,cmap=cmap)"
      ],
      "metadata": {
        "colab": {
          "base_uri": "https://localhost:8080/",
          "height": 283
        },
        "id": "V-f6rWo9wB2L",
        "outputId": "97a0043d-e722-4518-e7d6-7ad5cadddd3e"
      },
      "execution_count": null,
      "outputs": [
        {
          "output_type": "execute_result",
          "data": {
            "text/plain": [
              "<matplotlib.image.AxesImage at 0x7f54fc6755d0>"
            ]
          },
          "metadata": {},
          "execution_count": 18
        },
        {
          "output_type": "display_data",
          "data": {
            "text/plain": [
              "<Figure size 432x288 with 1 Axes>"
            ],
            "image/png": "[encoded data removed]"
          },
          "metadata": {
            "needs_background": "light"
          }
        }
      ]
    },
    {
      "cell_type": "code",
      "source": [
        "L=16                                             #p=0.4\n",
        "c=1\n",
        "LATTICE=lattice(L)\n",
        "LATTICE[0]=np.zeros(L)\n",
        "final=percolation(LATTICE,1,0.4)\n",
        "plt.imshow(final,cmap=cmap)"
      ],
      "metadata": {
        "colab": {
          "base_uri": "https://localhost:8080/",
          "height": 283
        },
        "id": "AYE-C75gxIeQ",
        "outputId": "c53225df-ff49-4ca0-ada0-5f82aa40a3a2"
      },
      "execution_count": null,
      "outputs": [
        {
          "output_type": "execute_result",
          "data": {
            "text/plain": [
              "<matplotlib.image.AxesImage at 0x7f54fc1039d0>"
            ]
          },
          "metadata": {},
          "execution_count": 19
        },
        {
          "output_type": "display_data",
          "data": {
            "text/plain": [
              "<Figure size 432x288 with 1 Axes>"
            ],
            "image/png": "[encoded data removed]"
          },
          "metadata": {
            "needs_background": "light"
          }
        }
      ]
    },
    {
      "cell_type": "code",
      "source": [
        "L=16                                            #p=0.7\n",
        "c=1\n",
        "LATTICE=lattice(L)\n",
        "LATTICE[0]=np.zeros(L)\n",
        "final=percolation(LATTICE,1,0.7)\n",
        "plt.imshow(final,cmap=cmap)"
      ],
      "metadata": {
        "colab": {
          "base_uri": "https://localhost:8080/",
          "height": 283
        },
        "id": "4KV6887kyQye",
        "outputId": "d1a940cf-510a-475d-9f7b-8926a7468941"
      },
      "execution_count": null,
      "outputs": [
        {
          "output_type": "execute_result",
          "data": {
            "text/plain": [
              "<matplotlib.image.AxesImage at 0x7f54fc8024d0>"
            ]
          },
          "metadata": {},
          "execution_count": 20
        },
        {
          "output_type": "display_data",
          "data": {
            "text/plain": [
              "<Figure size 432x288 with 1 Axes>"
            ],
            "image/png": "[encoded data removed]"
          },
          "metadata": {
            "needs_background": "light"
          }
        }
      ]
    },
    {
      "cell_type": "code",
      "source": [],
      "metadata": {
        "id": "CwglCma4yLju"
      },
      "execution_count": null,
      "outputs": []
    }
  ]
}